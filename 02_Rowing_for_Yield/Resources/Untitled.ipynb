{
 "cells": [
  {
   "cell_type": "code",
   "execution_count": 2,
   "id": "8d843525-6a42-439b-a7dc-091b7e0454a4",
   "metadata": {},
   "outputs": [
    {
     "data": {
      "text/html": [
       "<div>\n",
       "<style scoped>\n",
       "    .dataframe tbody tr th:only-of-type {\n",
       "        vertical-align: middle;\n",
       "    }\n",
       "\n",
       "    .dataframe tbody tr th {\n",
       "        vertical-align: top;\n",
       "    }\n",
       "\n",
       "    .dataframe thead th {\n",
       "        text-align: right;\n",
       "    }\n",
       "</style>\n",
       "<table border=\"1\" class=\"dataframe\">\n",
       "  <thead>\n",
       "    <tr style=\"text-align: right;\">\n",
       "      <th></th>\n",
       "      <th>AAPL</th>\n",
       "      <th>GOOG</th>\n",
       "    </tr>\n",
       "  </thead>\n",
       "  <tbody>\n",
       "    <tr>\n",
       "      <th>2020-01-01</th>\n",
       "      <td>-0.082355</td>\n",
       "      <td>-0.492088</td>\n",
       "    </tr>\n",
       "    <tr>\n",
       "      <th>2020-01-02</th>\n",
       "      <td>-0.737321</td>\n",
       "      <td>0.001999</td>\n",
       "    </tr>\n",
       "    <tr>\n",
       "      <th>2020-01-03</th>\n",
       "      <td>-0.834396</td>\n",
       "      <td>2.243608</td>\n",
       "    </tr>\n",
       "    <tr>\n",
       "      <th>2020-01-04</th>\n",
       "      <td>1.163258</td>\n",
       "      <td>1.860865</td>\n",
       "    </tr>\n",
       "    <tr>\n",
       "      <th>2020-01-05</th>\n",
       "      <td>-0.803432</td>\n",
       "      <td>-0.558910</td>\n",
       "    </tr>\n",
       "    <tr>\n",
       "      <th>2020-01-06</th>\n",
       "      <td>-0.950327</td>\n",
       "      <td>0.685181</td>\n",
       "    </tr>\n",
       "    <tr>\n",
       "      <th>2020-01-07</th>\n",
       "      <td>-0.301692</td>\n",
       "      <td>0.145974</td>\n",
       "    </tr>\n",
       "    <tr>\n",
       "      <th>2020-01-08</th>\n",
       "      <td>-0.100022</td>\n",
       "      <td>-0.679842</td>\n",
       "    </tr>\n",
       "    <tr>\n",
       "      <th>2020-01-09</th>\n",
       "      <td>1.570639</td>\n",
       "      <td>1.131181</td>\n",
       "    </tr>\n",
       "    <tr>\n",
       "      <th>2020-01-10</th>\n",
       "      <td>-1.410450</td>\n",
       "      <td>-0.355475</td>\n",
       "    </tr>\n",
       "  </tbody>\n",
       "</table>\n",
       "</div>"
      ],
      "text/plain": [
       "                AAPL      GOOG\n",
       "2020-01-01 -0.082355 -0.492088\n",
       "2020-01-02 -0.737321  0.001999\n",
       "2020-01-03 -0.834396  2.243608\n",
       "2020-01-04  1.163258  1.860865\n",
       "2020-01-05 -0.803432 -0.558910\n",
       "2020-01-06 -0.950327  0.685181\n",
       "2020-01-07 -0.301692  0.145974\n",
       "2020-01-08 -0.100022 -0.679842\n",
       "2020-01-09  1.570639  1.131181\n",
       "2020-01-10 -1.410450 -0.355475"
      ]
     },
     "execution_count": 2,
     "metadata": {},
     "output_type": "execute_result"
    }
   ],
   "source": [
    "import pandas as pd\n",
    "import numpy as np\n",
    "daily_returns = pd.DataFrame(\n",
    "    np.random.randn(10, 2),\n",
    "    index=pd.date_range('1/1/2020', periods=10),\n",
    "    columns=[\"AAPL\", \"GOOG\"])\n",
    "daily_returns"
   ]
  },
  {
   "cell_type": "code",
   "execution_count": 3,
   "id": "a9c95043-b146-4885-a913-0bf08903e1f0",
   "metadata": {},
   "outputs": [
    {
     "data": {
      "text/html": [
       "<div>\n",
       "<style scoped>\n",
       "    .dataframe tbody tr th:only-of-type {\n",
       "        vertical-align: middle;\n",
       "    }\n",
       "\n",
       "    .dataframe tbody tr th {\n",
       "        vertical-align: top;\n",
       "    }\n",
       "\n",
       "    .dataframe thead th {\n",
       "        text-align: right;\n",
       "    }\n",
       "</style>\n",
       "<table border=\"1\" class=\"dataframe\">\n",
       "  <thead>\n",
       "    <tr style=\"text-align: right;\">\n",
       "      <th></th>\n",
       "      <th>AAPL</th>\n",
       "      <th>MSFT</th>\n",
       "    </tr>\n",
       "  </thead>\n",
       "  <tbody>\n",
       "    <tr>\n",
       "      <th>0</th>\n",
       "      <td>-0.327539</td>\n",
       "      <td>-0.481993</td>\n",
       "    </tr>\n",
       "    <tr>\n",
       "      <th>1</th>\n",
       "      <td>1.802404</td>\n",
       "      <td>-0.659076</td>\n",
       "    </tr>\n",
       "    <tr>\n",
       "      <th>2</th>\n",
       "      <td>-0.545928</td>\n",
       "      <td>-0.065550</td>\n",
       "    </tr>\n",
       "    <tr>\n",
       "      <th>3</th>\n",
       "      <td>0.781135</td>\n",
       "      <td>-1.470705</td>\n",
       "    </tr>\n",
       "    <tr>\n",
       "      <th>4</th>\n",
       "      <td>0.942406</td>\n",
       "      <td>1.380978</td>\n",
       "    </tr>\n",
       "  </tbody>\n",
       "</table>\n",
       "</div>"
      ],
      "text/plain": [
       "       AAPL      MSFT\n",
       "0 -0.327539 -0.481993\n",
       "1  1.802404 -0.659076\n",
       "2 -0.545928 -0.065550\n",
       "3  0.781135 -1.470705\n",
       "4  0.942406  1.380978"
      ]
     },
     "execution_count": 3,
     "metadata": {},
     "output_type": "execute_result"
    }
   ],
   "source": [
    "daily_returns = pd.DataFrame({\n",
    "    'AAPL': np.random.randn(5),\n",
    "    'GOOG': np.random.randn(5),\n",
    "    'MSFT': np.random.randn(5),\n",
    "})\n",
    "daily_returns\n",
    "boolean_filter = [True,False,True]\n",
    "daily_returns.loc[:, boolean_filter]"
   ]
  },
  {
   "cell_type": "code",
   "execution_count": 21,
   "id": "30f050f3-9545-4cc8-9ec7-f2975dbd75c9",
   "metadata": {},
   "outputs": [
    {
     "data": {
      "text/html": [
       "<div>\n",
       "<style scoped>\n",
       "    .dataframe tbody tr th:only-of-type {\n",
       "        vertical-align: middle;\n",
       "    }\n",
       "\n",
       "    .dataframe tbody tr th {\n",
       "        vertical-align: top;\n",
       "    }\n",
       "\n",
       "    .dataframe thead th {\n",
       "        text-align: right;\n",
       "    }\n",
       "</style>\n",
       "<table border=\"1\" class=\"dataframe\">\n",
       "  <thead>\n",
       "    <tr style=\"text-align: right;\">\n",
       "      <th></th>\n",
       "      <th>AAPL</th>\n",
       "    </tr>\n",
       "  </thead>\n",
       "  <tbody>\n",
       "    <tr>\n",
       "      <th>0</th>\n",
       "      <td>0.540546</td>\n",
       "    </tr>\n",
       "    <tr>\n",
       "      <th>1</th>\n",
       "      <td>2.545020</td>\n",
       "    </tr>\n",
       "    <tr>\n",
       "      <th>2</th>\n",
       "      <td>1.767378</td>\n",
       "    </tr>\n",
       "    <tr>\n",
       "      <th>3</th>\n",
       "      <td>0.888327</td>\n",
       "    </tr>\n",
       "    <tr>\n",
       "      <th>4</th>\n",
       "      <td>1.092155</td>\n",
       "    </tr>\n",
       "    <tr>\n",
       "      <th>5</th>\n",
       "      <td>1.040822</td>\n",
       "    </tr>\n",
       "    <tr>\n",
       "      <th>6</th>\n",
       "      <td>0.279420</td>\n",
       "    </tr>\n",
       "    <tr>\n",
       "      <th>7</th>\n",
       "      <td>-0.692852</td>\n",
       "    </tr>\n",
       "    <tr>\n",
       "      <th>8</th>\n",
       "      <td>0.879067</td>\n",
       "    </tr>\n",
       "    <tr>\n",
       "      <th>9</th>\n",
       "      <td>0.601706</td>\n",
       "    </tr>\n",
       "  </tbody>\n",
       "</table>\n",
       "</div>"
      ],
      "text/plain": [
       "       AAPL\n",
       "0  0.540546\n",
       "1  2.545020\n",
       "2  1.767378\n",
       "3  0.888327\n",
       "4  1.092155\n",
       "5  1.040822\n",
       "6  0.279420\n",
       "7 -0.692852\n",
       "8  0.879067\n",
       "9  0.601706"
      ]
     },
     "execution_count": 21,
     "metadata": {},
     "output_type": "execute_result"
    }
   ],
   "source": [
    "aapl_returns = pd.DataFrame({'AAPL': np.random.randn(10) + 1})\n",
    "aapl_returns"
   ]
  },
  {
   "cell_type": "code",
   "execution_count": 22,
   "id": "a2ca850d-67f6-4c16-aa3b-ff37c5296e6b",
   "metadata": {},
   "outputs": [
    {
     "data": {
      "text/plain": [
       "0     True\n",
       "1     True\n",
       "2     True\n",
       "3     True\n",
       "4     True\n",
       "5     True\n",
       "6     True\n",
       "7    False\n",
       "8     True\n",
       "9     True\n",
       "Name: AAPL, dtype: bool"
      ]
     },
     "execution_count": 22,
     "metadata": {},
     "output_type": "execute_result"
    }
   ],
   "source": [
    "aapl_returns[\"AAPL\"] > 0"
   ]
  },
  {
   "cell_type": "code",
   "execution_count": 26,
   "id": "d0e5936d-14a6-4935-85ff-613e08a627b4",
   "metadata": {},
   "outputs": [
    {
     "data": {
      "text/plain": [
       "0     True\n",
       "1    False\n",
       "2     True\n",
       "3     True\n",
       "4     True\n",
       "5     True\n",
       "6     True\n",
       "7     True\n",
       "8     True\n",
       "9     True\n",
       "Name: AAPL, dtype: bool"
      ]
     },
     "execution_count": 26,
     "metadata": {},
     "output_type": "execute_result"
    }
   ],
   "source": [
    "aapl_returns[\"AAPL\"] <= 2"
   ]
  },
  {
   "cell_type": "code",
   "execution_count": 30,
   "id": "de41386b-cbec-4d43-ab22-c1c072de3f2b",
   "metadata": {},
   "outputs": [
    {
     "data": {
      "text/plain": [
       "AAPL    9\n",
       "dtype: int64"
      ]
     },
     "execution_count": 30,
     "metadata": {},
     "output_type": "execute_result"
    }
   ],
   "source": [
    "boolean_filter_low = aapl_returns[\"AAPL\"] > 0\n",
    "aapl_returns.loc[boolean_filter_low].count()"
   ]
  },
  {
   "cell_type": "code",
   "execution_count": 29,
   "id": "e1be541a-841f-488c-88e1-879963e64d25",
   "metadata": {},
   "outputs": [
    {
     "data": {
      "text/plain": [
       "AAPL    9\n",
       "dtype: int64"
      ]
     },
     "execution_count": 29,
     "metadata": {},
     "output_type": "execute_result"
    }
   ],
   "source": [
    "boolean_filter_high = aapl_returns[\"AAPL\"] <= 2\n",
    "aapl_returns.loc[boolean_filter_high].count()"
   ]
  },
  {
   "cell_type": "code",
   "execution_count": 28,
   "id": "95315941-2de5-44c4-a6e2-b833d322ddf9",
   "metadata": {},
   "outputs": [
    {
     "data": {
      "text/plain": [
       "AAPL    8\n",
       "dtype: int64"
      ]
     },
     "execution_count": 28,
     "metadata": {},
     "output_type": "execute_result"
    }
   ],
   "source": [
    "aapl_returns.loc[boolean_filter_high & boolean_filter_low].count()"
   ]
  },
  {
   "cell_type": "code",
   "execution_count": null,
   "id": "eabb96c5-478b-4103-9f2d-1e0cf99ebf9d",
   "metadata": {},
   "outputs": [],
   "source": []
  }
 ],
 "metadata": {
  "kernelspec": {
   "display_name": "Python 3 (ipykernel)",
   "language": "python",
   "name": "python3"
  },
  "language_info": {
   "codemirror_mode": {
    "name": "ipython",
    "version": 3
   },
   "file_extension": ".py",
   "mimetype": "text/x-python",
   "name": "python",
   "nbconvert_exporter": "python",
   "pygments_lexer": "ipython3",
   "version": "3.9.7"
  }
 },
 "nbformat": 4,
 "nbformat_minor": 5
}
